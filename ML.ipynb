{
 "cells": [
  {
   "cell_type": "code",
   "execution_count": 223,
   "metadata": {
    "collapsed": true,
    "ExecuteTime": {
     "start_time": "2023-04-08T17:49:38.172422Z",
     "end_time": "2023-04-08T17:49:38.346466Z"
    }
   },
   "outputs": [],
   "source": [
    "import numpy as np\n",
    "import pandas as pd\n",
    "import sns as sns\n"
   ]
  },
  {
   "cell_type": "markdown",
   "source": [
    "1. Read the Auto data (5 points)\n",
    "    a. use pandas to read the data\n",
    "    b. output the first few rows\n",
    "    c. output the dimensions of the data"
   ],
   "metadata": {
    "collapsed": false
   }
  },
  {
   "cell_type": "code",
   "execution_count": 224,
   "outputs": [
    {
     "name": "stdout",
     "output_type": "stream",
     "text": [
      "      mpg  cylinders  displacement  horsepower  weight  acceleration  year   \n",
      "0    18.0          8         307.0         130    3504          12.0  70.0  \\\n",
      "1    15.0          8         350.0         165    3693          11.5  70.0   \n",
      "2    18.0          8         318.0         150    3436          11.0  70.0   \n",
      "3    16.0          8         304.0         150    3433          12.0  70.0   \n",
      "4    17.0          8         302.0         140    3449           NaN  70.0   \n",
      "..    ...        ...           ...         ...     ...           ...   ...   \n",
      "387  27.0          4         140.0          86    2790          15.6  82.0   \n",
      "388  44.0          4          97.0          52    2130          24.6  82.0   \n",
      "389  32.0          4         135.0          84    2295          11.6  82.0   \n",
      "390  28.0          4         120.0          79    2625          18.6  82.0   \n",
      "391  31.0          4         119.0          82    2720          19.4  82.0   \n",
      "\n",
      "     origin                       name  \n",
      "0         1  chevrolet chevelle malibu  \n",
      "1         1          buick skylark 320  \n",
      "2         1         plymouth satellite  \n",
      "3         1              amc rebel sst  \n",
      "4         1                ford torino  \n",
      "..      ...                        ...  \n",
      "387       1            ford mustang gl  \n",
      "388       2                  vw pickup  \n",
      "389       1              dodge rampage  \n",
      "390       1                ford ranger  \n",
      "391       1                 chevy s-10  \n",
      "\n",
      "[392 rows x 9 columns]\n"
     ]
    }
   ],
   "source": [
    "data = pd.read_csv(\"Auto.csv\")\n",
    "print(data)"
   ],
   "metadata": {
    "collapsed": false,
    "ExecuteTime": {
     "start_time": "2023-04-08T17:49:38.181837Z",
     "end_time": "2023-04-08T17:49:38.361690Z"
    }
   }
  },
  {
   "cell_type": "code",
   "execution_count": 225,
   "outputs": [
    {
     "name": "stdout",
     "output_type": "stream",
     "text": [
      "    mpg  cylinders  displacement  horsepower  weight  acceleration  year   \n",
      "0  18.0          8         307.0         130    3504          12.0  70.0  \\\n",
      "1  15.0          8         350.0         165    3693          11.5  70.0   \n",
      "2  18.0          8         318.0         150    3436          11.0  70.0   \n",
      "3  16.0          8         304.0         150    3433          12.0  70.0   \n",
      "4  17.0          8         302.0         140    3449           NaN  70.0   \n",
      "\n",
      "   origin                       name  \n",
      "0       1  chevrolet chevelle malibu  \n",
      "1       1          buick skylark 320  \n",
      "2       1         plymouth satellite  \n",
      "3       1              amc rebel sst  \n",
      "4       1                ford torino  \n",
      "Dimensions: (392, 9)\n"
     ]
    }
   ],
   "source": [
    "print(data.head())\n",
    "print(\"Dimensions:\", data.shape)"
   ],
   "metadata": {
    "collapsed": false,
    "ExecuteTime": {
     "start_time": "2023-04-08T17:49:38.220026Z",
     "end_time": "2023-04-08T17:49:38.363534Z"
    }
   }
  },
  {
   "cell_type": "markdown",
   "source": [
    "2. Data exploration with code (5 points)\n",
    "    a. use describe() on the mpg, weight, and year columns\n",
    "    b. write comments indicating the range and average of each column"
   ],
   "metadata": {
    "collapsed": false
   }
  },
  {
   "cell_type": "code",
   "execution_count": 226,
   "outputs": [
    {
     "name": "stdout",
     "output_type": "stream",
     "text": [
      "MPG column:\n",
      "count    392.000000\n",
      "mean      23.445918\n",
      "std        7.805007\n",
      "min        9.000000\n",
      "25%       17.000000\n",
      "50%       22.750000\n",
      "75%       29.000000\n",
      "max       46.600000\n",
      "Name: mpg, dtype: float64\n",
      "Weight column:\n",
      "count     392.000000\n",
      "mean     2977.584184\n",
      "std       849.402560\n",
      "min      1613.000000\n",
      "25%      2225.250000\n",
      "50%      2803.500000\n",
      "75%      3614.750000\n",
      "max      5140.000000\n",
      "Name: weight, dtype: float64\n",
      "Year column:\n",
      "count    390.000000\n",
      "mean      76.010256\n",
      "std        3.668093\n",
      "min       70.000000\n",
      "25%       73.000000\n",
      "50%       76.000000\n",
      "75%       79.000000\n",
      "max       82.000000\n",
      "Name: year, dtype: float64\n"
     ]
    }
   ],
   "source": [
    "print(\"MPG column:\")\n",
    "print(data[\"mpg\"].describe())\n",
    "\n",
    "print(\"Weight column:\")\n",
    "print(data[\"weight\"].describe())\n",
    "\n",
    "print(\"Year column:\")\n",
    "print(data[\"year\"].describe())"
   ],
   "metadata": {
    "collapsed": false,
    "ExecuteTime": {
     "start_time": "2023-04-08T17:49:38.232894Z",
     "end_time": "2023-04-08T17:49:38.365697Z"
    }
   }
  },
  {
   "cell_type": "markdown",
   "source": [
    "MPG Column: Range = 37.6 , Mean = 23.45\n",
    "Weight Column: Range = 3527 , Mean = 2977.58\n",
    "Year Column: Range = 12 , Mean = 76.01"
   ],
   "metadata": {
    "collapsed": false
   }
  },
  {
   "cell_type": "markdown",
   "source": [
    "3. Explore data types (5 points)\n",
    "    a. check the data types of all columns\n",
    "    b. change the cylinders column to categorical (use cat.codes)\n",
    "    c. change the origin column to categorical (don’t use cat.codes)\n",
    "    d. verify the changes with the dtypes attribute"
   ],
   "metadata": {
    "collapsed": false
   }
  },
  {
   "cell_type": "code",
   "execution_count": 227,
   "outputs": [
    {
     "name": "stdout",
     "output_type": "stream",
     "text": [
      "mpg             float64\n",
      "cylinders         int64\n",
      "displacement    float64\n",
      "horsepower        int64\n",
      "weight            int64\n",
      "acceleration    float64\n",
      "year            float64\n",
      "origin            int64\n",
      "name             object\n",
      "dtype: object\n"
     ]
    }
   ],
   "source": [
    "print(data.dtypes)"
   ],
   "metadata": {
    "collapsed": false,
    "ExecuteTime": {
     "start_time": "2023-04-08T17:49:38.249029Z",
     "end_time": "2023-04-08T17:49:38.365896Z"
    }
   }
  },
  {
   "cell_type": "code",
   "execution_count": 228,
   "outputs": [
    {
     "name": "stdout",
     "output_type": "stream",
     "text": [
      "mpg               float64\n",
      "cylinders        category\n",
      "displacement      float64\n",
      "horsepower          int64\n",
      "weight              int64\n",
      "acceleration      float64\n",
      "year              float64\n",
      "origin           category\n",
      "name               object\n",
      "cylinders_cat        int8\n",
      "dtype: object\n",
      "(392, 10)\n"
     ]
    }
   ],
   "source": [
    "data[\"cylinders\"] = data[\"cylinders\"].astype(\"category\")\n",
    "data[\"cylinders_cat\"] = data[\"cylinders\"].cat.codes\n",
    "\n",
    "data[\"origin\"] = data[\"origin\"].astype(\"category\")\n",
    "\n",
    "print(data.dtypes)\n",
    "print(data.shape)"
   ],
   "metadata": {
    "collapsed": false,
    "ExecuteTime": {
     "start_time": "2023-04-08T17:49:38.261401Z",
     "end_time": "2023-04-08T17:49:38.371970Z"
    }
   }
  },
  {
   "cell_type": "markdown",
   "source": [
    "4. Deal with NAs (5 points)\n",
    "    a. delete rows with NAs\n",
    "    b. output the new dimensions"
   ],
   "metadata": {
    "collapsed": false
   }
  },
  {
   "cell_type": "code",
   "execution_count": 229,
   "outputs": [
    {
     "name": "stdout",
     "output_type": "stream",
     "text": [
      "(392, 10)\n",
      "Dimensions after deleting rows with NAs:\n",
      "(389, 10)\n"
     ]
    }
   ],
   "source": [
    "print(data.shape)\n",
    "data.dropna(inplace=True)\n",
    "print(\"Dimensions after deleting rows with NAs:\")\n",
    "print(data.shape)"
   ],
   "metadata": {
    "collapsed": false,
    "ExecuteTime": {
     "start_time": "2023-04-08T17:49:38.268257Z",
     "end_time": "2023-04-08T17:49:38.372506Z"
    }
   }
  },
  {
   "cell_type": "markdown",
   "source": [
    "5. Modify columns (10 points)\n",
    "    a. make a new column, mpg_high, and make it categorical:\n",
    "        i. the column == 1 if mpg > average mpg, else == 0\n",
    "    b. delete the mpg and name columns (delete mpg so the algorithm doesn’t just learn\n",
    "    to predict mpg_high from mpg)\n",
    "    c. output the first few rows of the modified data frame"
   ],
   "metadata": {
    "collapsed": false
   }
  },
  {
   "cell_type": "code",
   "execution_count": 230,
   "outputs": [
    {
     "name": "stdout",
     "output_type": "stream",
     "text": [
      "  cylinders  displacement  horsepower  weight  acceleration  year origin   \n",
      "0         8         307.0         130    3504          12.0  70.0      1  \\\n",
      "1         8         350.0         165    3693          11.5  70.0      1   \n",
      "2         8         318.0         150    3436          11.0  70.0      1   \n",
      "3         8         304.0         150    3433          12.0  70.0      1   \n",
      "6         8         454.0         220    4354           9.0  70.0      1   \n",
      "\n",
      "   cylinders_cat  mpg_high  \n",
      "0              4         0  \n",
      "1              4         0  \n",
      "2              4         0  \n",
      "3              4         0  \n",
      "6              4         0  \n"
     ]
    }
   ],
   "source": [
    "avg_mpg = data['mpg'].mean()\n",
    "data['mpg_high'] = (data['mpg'] > avg_mpg).astype(int)\n",
    "\n",
    "data.drop(columns=['mpg', 'name'], inplace=True)\n",
    "\n",
    "print(data.head())"
   ],
   "metadata": {
    "collapsed": false,
    "ExecuteTime": {
     "start_time": "2023-04-08T17:49:38.284301Z",
     "end_time": "2023-04-08T17:49:38.373054Z"
    }
   }
  },
  {
   "cell_type": "markdown",
   "source": [
    "6. Data exploration with graphs (15 points)\n",
    "    a. seaborn catplot on the mpg_high column\n",
    "    b. seaborn relplot with horsepower on the x axis, weight on the y axis, setting hue or\n",
    "    style to mpg_high\n",
    "    c. seaborn boxplot with mpg_high on the x axis and weight on the y axis\n",
    "    d. for each graph, write a comment indicating one thing you learned about the data\n",
    "    from the graph"
   ],
   "metadata": {
    "collapsed": false
   }
  },
  {
   "cell_type": "code",
   "execution_count": 231,
   "outputs": [
    {
     "data": {
      "text/plain": "<Figure size 500x500 with 1 Axes>",
      "image/png": "[encoded data removed]"
     },
     "metadata": {},
     "output_type": "display_data"
    },
    {
     "data": {
      "text/plain": "<Figure size 579.611x500 with 1 Axes>",
      "image/png": "[encoded data removed]"
     },
     "metadata": {},
     "output_type": "display_data"
    }
   ],
   "source": [
    "import seaborn as sns\n",
    "import matplotlib.pyplot as plt\n",
    "\n",
    "sns.catplot(x=\"mpg_high\", kind=\"count\", data=data)\n",
    "sns.relplot(x=\"horsepower\", y=\"weight\", hue=\"mpg_high\", data=data)\n",
    "sns.boxplot(x=\"mpg_high\", y=\"weight\", data=data)\n",
    "plt.show()"
   ],
   "metadata": {
    "collapsed": false,
    "ExecuteTime": {
     "start_time": "2023-04-08T17:49:38.336389Z",
     "end_time": "2023-04-08T17:49:38.996885Z"
    }
   }
  },
  {
   "cell_type": "markdown",
   "source": [
    "Catplot: We can see that there are more vehicles that have mpg lower than the average. However the numbers are really close.\n",
    "Retplot and Boxplot: we can see that the cars with a lower weight has less mpg. This makes sense because the engine now requires less amount of work to move the vehicle."
   ],
   "metadata": {
    "collapsed": false
   }
  },
  {
   "cell_type": "markdown",
   "source": [
    "7. Train/test split (5 points)\n",
    "    a. 80/20\n",
    "    b. use seed 1234 so we all get the same results\n",
    "    c. train /test X data frames consists of all remaining columns except mpg_high\n",
    "    d. output the dimensions of train and test"
   ],
   "metadata": {
    "collapsed": false
   }
  },
  {
   "cell_type": "code",
   "execution_count": 232,
   "outputs": [
    {
     "name": "stdout",
     "output_type": "stream",
     "text": [
      "Train: (311, 8) (311,)\n",
      "Test: (78, 8) (78,)\n"
     ]
    }
   ],
   "source": [
    "from sklearn.model_selection import train_test_split\n",
    "\n",
    "np.random.seed(1234)\n",
    "X = data.drop('mpg_high', axis=1)\n",
    "y = data['mpg_high']\n",
    "\n",
    "X_train, X_test, y_train, y_test = train_test_split(X, y, test_size=0.2)\n",
    "\n",
    "print(\"Train:\", X_train.shape, y_train.shape)\n",
    "print(\"Test:\", X_test.shape, y_test.shape)"
   ],
   "metadata": {
    "collapsed": false,
    "ExecuteTime": {
     "start_time": "2023-04-08T17:49:39.004434Z",
     "end_time": "2023-04-08T17:49:39.007414Z"
    }
   }
  },
  {
   "cell_type": "markdown",
   "source": [
    "8. Logistic Regression (10 points)\n",
    "    a. train a logistic regression model using solver lbfgs\n",
    "    b. test and evaluate\n",
    "    c. print metrics using the classification report"
   ],
   "metadata": {
    "collapsed": false
   }
  },
  {
   "cell_type": "code",
   "execution_count": 233,
   "outputs": [
    {
     "name": "stdout",
     "output_type": "stream",
     "text": [
      "              precision    recall  f1-score   support\n",
      "\n",
      "           0       0.98      0.82      0.89        50\n",
      "           1       0.75      0.96      0.84        28\n",
      "\n",
      "    accuracy                           0.87        78\n",
      "   macro avg       0.86      0.89      0.87        78\n",
      "weighted avg       0.89      0.87      0.87        78\n",
      "\n"
     ]
    },
    {
     "name": "stderr",
     "output_type": "stream",
     "text": [
      "/Users/mdhassan/PycharmProjects/pythonProject6/venv/lib/python3.10/site-packages/sklearn/linear_model/_logistic.py:458: ConvergenceWarning: lbfgs failed to converge (status=1):\n",
      "STOP: TOTAL NO. of ITERATIONS REACHED LIMIT.\n",
      "\n",
      "Increase the number of iterations (max_iter) or scale the data as shown in:\n",
      "    https://scikit-learn.org/stable/modules/preprocessing.html\n",
      "Please also refer to the documentation for alternative solver options:\n",
      "    https://scikit-learn.org/stable/modules/linear_model.html#logistic-regression\n",
      "  n_iter_i = _check_optimize_result(\n"
     ]
    }
   ],
   "source": [
    "from sklearn.linear_model import LogisticRegression\n",
    "from sklearn.metrics import classification_report\n",
    "\n",
    "clasf = LogisticRegression(solver='lbfgs')\n",
    "clasf.fit(X_train, y_train)\n",
    "\n",
    "y_pred = clasf.predict(X_test)\n",
    "print(classification_report(y_test, y_pred))"
   ],
   "metadata": {
    "collapsed": false,
    "ExecuteTime": {
     "start_time": "2023-04-08T17:49:39.014532Z",
     "end_time": "2023-04-08T17:49:39.088002Z"
    }
   }
  },
  {
   "cell_type": "markdown",
   "source": [
    "9. Decision Tree (10 points)\n",
    "    a. train a decision tree\n",
    "    b. test and evaluate\n",
    "    c. print the classification report metrics"
   ],
   "metadata": {
    "collapsed": false
   }
  },
  {
   "cell_type": "code",
   "execution_count": 234,
   "outputs": [
    {
     "name": "stdout",
     "output_type": "stream",
     "text": [
      "              precision    recall  f1-score   support\n",
      "\n",
      "           0       0.93      0.84      0.88        50\n",
      "           1       0.76      0.89      0.82        28\n",
      "\n",
      "    accuracy                           0.86        78\n",
      "   macro avg       0.85      0.87      0.85        78\n",
      "weighted avg       0.87      0.86      0.86        78\n",
      "\n"
     ]
    }
   ],
   "source": [
    "from sklearn.tree import DecisionTreeClassifier\n",
    "from sklearn.metrics import classification_report\n",
    "\n",
    "tree = DecisionTreeClassifier(max_depth=3, random_state=1234)\n",
    "tree.fit(X_train, y_train)\n",
    "y_pred = tree.predict(X_test)\n",
    "\n",
    "print(classification_report(y_test, y_pred))"
   ],
   "metadata": {
    "collapsed": false,
    "ExecuteTime": {
     "start_time": "2023-04-08T17:49:39.053431Z",
     "end_time": "2023-04-08T17:49:39.100291Z"
    }
   }
  },
  {
   "cell_type": "markdown",
   "source": [
    "10. Neural Network (15 points)\n",
    "    a. train a neural network, choosing a network topology of your choice\n",
    "    b. test and evaluate\n",
    "    c. train a second network with a different topology and different settings\n",
    "    d. test and evaluate\n",
    "    e. compare the two models and why you think the performance was same/different"
   ],
   "metadata": {
    "collapsed": false
   }
  },
  {
   "cell_type": "code",
   "execution_count": 235,
   "outputs": [
    {
     "name": "stdout",
     "output_type": "stream",
     "text": [
      "Neural Network 1:\n",
      "              precision    recall  f1-score   support\n",
      "\n",
      "           0       0.89      0.84      0.87        50\n",
      "           1       0.74      0.82      0.78        28\n",
      "\n",
      "    accuracy                           0.83        78\n",
      "   macro avg       0.82      0.83      0.82        78\n",
      "weighted avg       0.84      0.83      0.83        78\n",
      "\n",
      "Neural Network 2:\n",
      "              precision    recall  f1-score   support\n",
      "\n",
      "           0       0.93      0.78      0.85        50\n",
      "           1       0.69      0.89      0.78        28\n",
      "\n",
      "    accuracy                           0.82        78\n",
      "   macro avg       0.81      0.84      0.81        78\n",
      "weighted avg       0.84      0.82      0.82        78\n",
      "\n"
     ]
    }
   ],
   "source": [
    "from sklearn.neural_network import MLPClassifier\n",
    "\n",
    "nn = MLPClassifier(hidden_layer_sizes=(20,), max_iter=700, random_state=1234)\n",
    "nn.fit(X_train, y_train)\n",
    "y_pred = nn.predict(X_test)\n",
    "print(\"Neural Network 1:\")\n",
    "print(classification_report(y_test, y_pred))\n",
    "\n",
    "nn2 = MLPClassifier(hidden_layer_sizes=(20, 10), max_iter=1000, random_state=1234)\n",
    "nn2.fit(X_train, y_train)\n",
    "y_pred2 = nn2.predict(X_test)\n",
    "print(\"Neural Network 2:\")\n",
    "print(classification_report(y_test, y_pred2))"
   ],
   "metadata": {
    "collapsed": false,
    "ExecuteTime": {
     "start_time": "2023-04-08T17:49:39.076478Z",
     "end_time": "2023-04-08T17:49:39.600853Z"
    }
   }
  },
  {
   "cell_type": "markdown",
   "source": [
    "The two neural networks have very similar results. The First one is predicting better results for class 1 while the second one is producing better results for class 0. The result are same because the topology being very similar too."
   ],
   "metadata": {
    "collapsed": false
   }
  },
  {
   "cell_type": "markdown",
   "source": [
    "11. Analysis (15 points)\n",
    "    a. which algorithm performed better?\n",
    "    It looks like the logistic algorithm performed the best.\n",
    "    b. compare accuracy, recall and precision metrics by class\n",
    "    By comparing all three we can still see that logistic expression is giving us the best results.\n",
    "    c. give your analysis of why the better-performing algorithm might have outperformed\n",
    "    the other\n",
    "    We can see that Logistic expression is giving us the best accuracy. This is because simple algorithm like logistic expression is suited for this problem\n",
    "    d. write a couple of sentences comparing your experiences using R versus sklearn. Feel\n",
    "    free to express strong preferences.\n",
    "    Python is definitely easier for me because I did a similar but more complexive project like this last semester which is why I had some previous experience. However in R, it is my first time trying it so it was quite difficult for me at the beginning."
   ],
   "metadata": {
    "collapsed": false
   }
  }
 ],
 "metadata": {
  "kernelspec": {
   "display_name": "Python 3",
   "language": "python",
   "name": "python3"
  },
  "language_info": {
   "codemirror_mode": {
    "name": "ipython",
    "version": 2
   },
   "file_extension": ".py",
   "mimetype": "text/x-python",
   "name": "python",
   "nbconvert_exporter": "python",
   "pygments_lexer": "ipython2",
   "version": "2.7.6"
  }
 },
 "nbformat": 4,
 "nbformat_minor": 0
}
